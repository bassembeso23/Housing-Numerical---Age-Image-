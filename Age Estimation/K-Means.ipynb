{
 "cells": [
  {
   "cell_type": "markdown",
   "id": "87abe886",
   "metadata": {},
   "source": [
    "# Age Dataset"
   ]
  },
  {
   "cell_type": "code",
   "execution_count": null,
   "id": "77653b3d",
   "metadata": {},
   "outputs": [],
   "source": [
    "#Required Library\n",
    "import numpy as np\n",
    "import pandas as pd\n",
    "import matplotlib.pyplot as plt\n",
    "from skimage.feature import hog\n",
    "from skimage import exposure\n",
    "import os\n",
    "import cv2\n",
    "import numpy as np\n",
    "from skimage import io, color, feature, exposure\n",
    "from sklearn.model_selection import train_test_split\n",
    "from sklearn.metrics import accuracy_score, classification_report\n",
    "from sklearn.preprocessing import LabelEncoder\n",
    "from sklearn.preprocessing import MinMaxScaler\n",
    "from sklearn.cluster import KMeans\n",
    "from sklearn.metrics import silhouette_score\n",
    "from sklearn.decomposition import PCA\n",
    "from sklearn.metrics import davies_bouldin_score"
   ]
  },
  {
   "cell_type": "code",
   "execution_count": null,
   "id": "5996df21",
   "metadata": {},
   "outputs": [],
   "source": [
    "# Function to extract HOG features from an image and visualize it\n",
    "def extract_hog_features(image):\n",
    "    # Convert the image to grayscale\n",
    "    gray_image = color.rgb2gray(image)\n",
    "\n",
    "    # Calculate HOG features\n",
    "    hog_features, hog_image = feature.hog(gray_image, visualize=True)\n",
    "\n",
    "    # Enhance the contrast of the HOG image for better visualization\n",
    "    hog_image_rescaled = exposure.rescale_intensity(hog_image, in_range=(0, 10))\n",
    "\n",
    "    return hog_features, hog_image_rescaled"
   ]
  },
  {
   "cell_type": "code",
   "execution_count": null,
   "id": "2530fd83",
   "metadata": {},
   "outputs": [],
   "source": [
    "# Path to the root folder of your dataset\n",
    "class_folder = \"D:/Level 3/ML/Project/Image_Dataset\"\n",
    "\n",
    "# List all subdirectories (assuming each subdirectory corresponds to a class)\n",
    "features_list=[]\n",
    "labels_list=[]\n",
    "age = []\n",
    "gender = []\n",
    "race = []\n",
    "\n",
    "for image_filename in os.listdir(class_folder):\n",
    "    image_path = os.path.join(class_folder, image_filename)\n",
    "    \n",
    "    #append age and geder and race for each image\n",
    "    p = (image_filename.split('.')[0]).split('_')\n",
    "    age.append(p[0])\n",
    "    gender.append(p[1])\n",
    "    race.append(p[2])\n",
    "    \n",
    "    # Load the image\n",
    "    image = io.imread(image_path)\n",
    "    #resize image into same saize 64*128\n",
    "    image = cv2.resize(image, (64,64))\n",
    "\n",
    "    # Extract HOG features and visualize\n",
    "    hog_features, hog_image = extract_hog_features(image)\n",
    "\n",
    "    # Display the original image and the HOG features\n",
    "    fig, (ax1, ax2) = plt.subplots(1, 2, figsize=(2, 2), sharex=True, sharey=True)\n",
    "\n",
    "    ax1.axis('off')\n",
    "    ax1.imshow(image, cmap=plt.cm.gray)\n",
    "\n",
    "    ax2.axis('off')\n",
    "    ax2.imshow(hog_image, cmap=plt.cm.gray)\n",
    "\n",
    "    plt.show()\n",
    "\n",
    "    # Append HOG features to the features list\n",
    "    features_list.append(hog_features)\n",
    "\n",
    "    #not important\n",
    "    # Append the label to the labels list\n",
    "    labels_list.append(class_folder)"
   ]
  },
  {
   "cell_type": "code",
   "execution_count": null,
   "id": "ef928215",
   "metadata": {},
   "outputs": [],
   "source": [
    "# Convert lists to NumPy arrays\n",
    "features_array = np.array(features_list)\n",
    "labels_array = np.array(labels_list)\n",
    "\n",
    "#not important\n",
    "# Use LabelEncoder to convert class names into numeric labels\n",
    "label_encoder = LabelEncoder()\n",
    "numeric_labels = label_encoder.fit_transform(labels_array)\n",
    "\n",
    "print(\"\\n*********************\\n\")\n",
    "print(len(features_array))\n"
   ]
  },
  {
   "cell_type": "code",
   "execution_count": null,
   "id": "3424fd50",
   "metadata": {},
   "outputs": [],
   "source": [
    "# Convert 'age' list to numpy array\n",
    "age_array = np.array(age).reshape(-1, 1)  # Reshape as a column vector\n",
    "\n",
    "# Convert 'gender' list to numpy array\n",
    "gender_array = np.array(gender).reshape(-1, 1)  # Reshape as a column vector\n",
    "\n",
    "# Convert 'race' list to numpy array\n",
    "race_array = np.array(race).reshape(-1, 1)  # Reshape as a column vector\n",
    "\n",
    "# Create the dataset by horizontally stacking age_array with features_array\n",
    "dataset = np.hstack((age_array,gender_array, race_array,features_array))\n",
    "\n",
    "# Convert dataset to a pandas DataFrame\n",
    "column_names = ['Age']+['Gender'] +['Race'] + [f'Feature_{i}' for i in range(features_array.shape[1])]  # Creating column names\n",
    "df = pd.DataFrame(dataset, columns=column_names)"
   ]
  },
  {
   "cell_type": "code",
   "execution_count": null,
   "id": "1d76850d",
   "metadata": {},
   "outputs": [],
   "source": [
    "# save dataset in my drive \n",
    "df.to_csv('age.csv', index=False)"
   ]
  },
  {
   "cell_type": "code",
   "execution_count": null,
   "id": "03ef9a39",
   "metadata": {},
   "outputs": [],
   "source": [
    "#load data from my devise \n",
    "dataset = pd.read_csv('age.csv')\n",
    "dataset.head()"
   ]
  },
  {
   "cell_type": "markdown",
   "id": "8cac4628",
   "metadata": {},
   "source": [
    "# Sum all image features"
   ]
  },
  {
   "cell_type": "code",
   "execution_count": null,
   "id": "25506da1",
   "metadata": {},
   "outputs": [],
   "source": [
    "#sum all image features\n",
    "features_sum = np.sum(features_array, axis=1).tolist()\n",
    "print(len(features_sum))\n",
    "print(features_sum[:20])\n",
    "print(\"\\n-------------------\\n\")\n",
    "print(age[:20])"
   ]
  },
  {
   "cell_type": "code",
   "execution_count": null,
   "id": "a025c567",
   "metadata": {},
   "outputs": [],
   "source": [
    "# new dataset after sum image features\n",
    "data = {'Age':age ,'Gender':gender ,'Race':race , 'Features': features_sum}\n",
    "df = pd.DataFrame(data)\n",
    "\n",
    "df.head(2)"
   ]
  },
  {
   "cell_type": "code",
   "execution_count": null,
   "id": "9cb375d1",
   "metadata": {},
   "outputs": [],
   "source": [
    "# save dataset after sum all imge features in my drive \n",
    "df.to_csv('age_after_sum.csv', index=False)"
   ]
  },
  {
   "cell_type": "code",
   "execution_count": null,
   "id": "cee4b5cf",
   "metadata": {},
   "outputs": [],
   "source": [
    "#load data from my devise \n",
    "df = pd.read_csv('age_after_sum.csv')\n",
    "df.head()"
   ]
  },
  {
   "cell_type": "code",
   "execution_count": null,
   "id": "0549b93d",
   "metadata": {},
   "outputs": [],
   "source": [
    "df.shape"
   ]
  },
  {
   "cell_type": "code",
   "execution_count": null,
   "id": "0de4ccbc",
   "metadata": {},
   "outputs": [],
   "source": [
    "df.info()"
   ]
  },
  {
   "cell_type": "code",
   "execution_count": null,
   "id": "46714231",
   "metadata": {},
   "outputs": [],
   "source": [
    "#fill NaN value by Medain\n",
    "df = df.fillna(df.median())"
   ]
  },
  {
   "cell_type": "code",
   "execution_count": null,
   "id": "6f6a9c97",
   "metadata": {},
   "outputs": [],
   "source": [
    "df.info()"
   ]
  },
  {
   "cell_type": "code",
   "execution_count": null,
   "id": "0fdcc00d",
   "metadata": {},
   "outputs": [],
   "source": [
    "# normaliz Age and Features and Gender and race\n",
    "df['Age'] = MinMaxScaler(feature_range=(0,1)).fit_transform(df[['Age']])\n",
    "df['Features'] = MinMaxScaler(feature_range=(0,1)).fit_transform(df[['Features']])"
   ]
  },
  {
   "cell_type": "code",
   "execution_count": null,
   "id": "fcf0c2e1",
   "metadata": {},
   "outputs": [],
   "source": [
    "df.head()"
   ]
  },
  {
   "cell_type": "code",
   "execution_count": null,
   "id": "bcfda47b",
   "metadata": {},
   "outputs": [],
   "source": [
    "#spliot into featurs and target \n",
    "data_x = df.drop(dataset.columns[1], axis=1)  #Features all expect gender \n",
    "data_y = df.iloc[:, 1]   #Target only gender"
   ]
  },
  {
   "cell_type": "code",
   "execution_count": null,
   "id": "79e32838",
   "metadata": {},
   "outputs": [],
   "source": [
    "# split into Train and Test\n",
    "x_train, x_test, y_train, y_test = train_test_split(data_x,data_y,test_size=0.2,random_state=42)"
   ]
  },
  {
   "cell_type": "markdown",
   "id": "e026f137-2cee-4a4d-871c-5629a90cbe78",
   "metadata": {},
   "source": [
    "# K-Means "
   ]
  },
  {
   "cell_type": "code",
   "execution_count": null,
   "id": "75a40c99",
   "metadata": {},
   "outputs": [],
   "source": [
    "# K-Means \n",
    "#useed orginal dataset not need to split dataset\n",
    "km = KMeans(n_clusters=2, random_state=42)\n",
    "y_pred = km.fit_predict(df)"
   ]
  },
  {
   "cell_type": "code",
   "execution_count": null,
   "id": "0b87176a",
   "metadata": {},
   "outputs": [],
   "source": [
    "# Calculating the silhouette score\n",
    "silhouette_avg = silhouette_score(df, km.labels_)\n",
    "print(f\"The Inertia: {km.inertia_}\")\n",
    "print(f\"The silhouette score is: {silhouette_avg}\")"
   ]
  },
  {
   "cell_type": "code",
   "execution_count": null,
   "id": "8ced9b0c",
   "metadata": {},
   "outputs": [],
   "source": [
    "#Elbow Method\n",
    "k=2\n",
    "inertia = []\n",
    "for k in range(1, 11):\n",
    "    kmean = KMeans(n_clusters=k, random_state=42)\n",
    "    kmean.fit(df)\n",
    "    inertia.append(kmean.inertia_)\n",
    "\n",
    "# Plotting the Elbow Method curve\n",
    "plt.figure(figsize=(8, 6))\n",
    "plt.plot(range(1, 11), inertia, marker='o')\n",
    "plt.title('Elbow Method for Optimal k(loss curve)')\n",
    "plt.xlabel('Number of Clusters (k)')\n",
    "plt.ylabel('Inertia')\n",
    "plt.xticks(range(1, 11))\n",
    "plt.show()"
   ]
  },
  {
   "cell_type": "code",
   "execution_count": null,
   "id": "76cff6f2",
   "metadata": {},
   "outputs": [],
   "source": [
    "# Visualize the cluster centers (representative images)\n",
    "k=2\n",
    "fig, ax = plt.subplots(1, k, figsize=(15, 3))\n",
    "for i in range(k):\n",
    "    center_image = km.cluster_centers_[i].reshape(2,2)  # Reshape to original dimensions\n",
    "    ax[i].imshow(center_image, cmap='gray')\n",
    "    ax[i].axis('off')\n",
    "    ax[i].set_title(f'Cluster {i}')\n",
    "\n",
    "plt.show()"
   ]
  },
  {
   "cell_type": "code",
   "execution_count": null,
   "id": "a1516946-fcf4-4d14-9fc8-4b6ae7e812c5",
   "metadata": {},
   "outputs": [],
   "source": []
  }
 ],
 "metadata": {
  "kernelspec": {
   "display_name": "Python 3 (ipykernel)",
   "language": "python",
   "name": "python3"
  },
  "language_info": {
   "codemirror_mode": {
    "name": "ipython",
    "version": 3
   },
   "file_extension": ".py",
   "mimetype": "text/x-python",
   "name": "python",
   "nbconvert_exporter": "python",
   "pygments_lexer": "ipython3",
   "version": "3.12.0"
  }
 },
 "nbformat": 4,
 "nbformat_minor": 5
}
