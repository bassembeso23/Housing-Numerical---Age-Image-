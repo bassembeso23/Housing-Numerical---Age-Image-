{
 "cells": [
  {
   "cell_type": "code",
   "execution_count": null,
   "id": "2e8e1b02",
   "metadata": {},
   "outputs": [],
   "source": [
    "import numpy as np\n",
    "import pandas as pd\n",
    "import matplotlib.pyplot as plt\n",
    "import seaborn as sns\n",
    "from skimage.feature import hog\n",
    "from skimage import exposure\n",
    "import os\n",
    "import cv2\n",
    "from skimage import io, color, feature, exposure\n",
    "from sklearn.model_selection import train_test_split\n",
    "from sklearn.metrics import accuracy_score, classification_report\n",
    "from sklearn.preprocessing import LabelEncoder\n",
    "from sklearn.preprocessing import MinMaxScaler\n",
    "from sklearn.metrics import silhouette_score\n",
    "from sklearn.decomposition import PCA\n",
    "from sklearn.linear_model import LogisticRegression\n",
    "from sklearn.metrics import accuracy_score  \n",
    "from sklearn.metrics import recall_score \n",
    "from sklearn.metrics import precision_score \n",
    "from sklearn.metrics import precision_recall_curve \n",
    "from sklearn.metrics import roc_curve , auc , confusion_matrix ,roc_auc_score \n",
    "from IPython.display import Image"
   ]
  },
  {
   "cell_type": "code",
   "execution_count": null,
   "id": "5b70f7c7",
   "metadata": {},
   "outputs": [],
   "source": [
    "# Function to extract HOG features from an image and visualize it\n",
    "def extract_hog_features(image):\n",
    "    # Convert the image to grayscale\n",
    "    gray_image = color.rgb2gray(image)\n",
    "\n",
    "    # Calculate HOG features\n",
    "    hog_features, hog_image = feature.hog(gray_image, visualize=True)\n",
    "\n",
    "    # Enhance the contrast of the HOG image for better visualization\n",
    "    hog_image_rescaled = exposure.rescale_intensity(hog_image, in_range=(0, 10))\n",
    "\n",
    "    return hog_features, hog_image_rescaled"
   ]
  },
  {
   "cell_type": "code",
   "execution_count": null,
   "id": "7461ca2d",
   "metadata": {},
   "outputs": [],
   "source": [
    "# Path to the root folder of your dataset\n",
    "class_folder = \"D:/Level 3/ML/Project/Image_Dataset\"\n",
    "\n",
    "# List all subdirectories (assuming each subdirectory corresponds to a class)\n",
    "features_list=[]\n",
    "labels_list=[]\n",
    "age = []\n",
    "gender = []\n",
    "race = []\n",
    "\n",
    "for image_filename in os.listdir(class_folder):\n",
    "    image_path = os.path.join(class_folder, image_filename)\n",
    "    \n",
    "    #append age and geder and race for each image\n",
    "    p = (image_filename.split('.')[0]).split('_')\n",
    "    age.append(p[0])\n",
    "    gender.append(p[1])\n",
    "    race.append(p[2])\n",
    "\n",
    "    # Load the image\n",
    "    image = io.imread(image_path)\n",
    "    #resize image into same saize 64*128\n",
    "    image = cv2.resize(image, (64,64))\n",
    "\n",
    "    # Extract HOG features and visualize\n",
    "    hog_features, hog_image = extract_hog_features(image)\n",
    "\n",
    "    # Display the original image and the HOG features\n",
    "    fig, (ax1, ax2) = plt.subplots(1, 2, figsize=(2, 2), sharex=True, sharey=True)\n",
    "\n",
    "    ax1.axis('off')\n",
    "    ax1.imshow(image, cmap=plt.cm.gray)\n",
    "\n",
    "    ax2.axis('off')\n",
    "    ax2.imshow(hog_image, cmap=plt.cm.gray)\n",
    "\n",
    "    plt.show()\n",
    "\n",
    "    # Append HOG features to the features list\n",
    "    features_list.append(hog_features)\n",
    "\n",
    "    #not important\n",
    "    # Append the label to the labels list\n",
    "    labels_list.append(class_folder)\n",
    "\n"
   ]
  },
  {
   "cell_type": "code",
   "execution_count": null,
   "id": "f87b9e22",
   "metadata": {},
   "outputs": [],
   "source": [
    "# Convert lists to NumPy arrays\n",
    "features_array = np.array(features_list)\n",
    "labels_array = np.array(labels_list)\n",
    "\n",
    "#not important\n",
    "# Use LabelEncoder to convert class names into numeric labels\n",
    "label_encoder = LabelEncoder()\n",
    "numeric_labels = label_encoder.fit_transform(labels_array)\n",
    "\n",
    "print(\"\\n*********************\\n\")\n",
    "print(len(features_array))\n"
   ]
  },
  {
   "cell_type": "code",
   "execution_count": null,
   "id": "a95ce96d",
   "metadata": {},
   "outputs": [],
   "source": [
    "# Convert 'age' list to numpy array\n",
    "age_array = np.array(age).reshape(-1, 1)  # Reshape as a column vector\n",
    "\n",
    "# Convert 'gender' list to numpy array\n",
    "gender_array = np.array(gender).reshape(-1, 1)  # Reshape as a column vector\n",
    "\n",
    "# Convert 'race' list to numpy array\n",
    "race_array = np.array(race).reshape(-1, 1)  # Reshape as a column vector\n",
    "\n",
    "# Create the dataset by horizontally stacking age_array with features_array\n",
    "dataset = np.hstack((age_array,gender_array, race_array,features_array))\n",
    "\n",
    "# Convert dataset to a pandas DataFrame\n",
    "column_names = ['Age']+['Gender'] +['Race'] + [f'Feature_{i}' for i in range(features_array.shape[1])]  # Creating column names\n",
    "df = pd.DataFrame(dataset, columns=column_names)"
   ]
  },
  {
   "cell_type": "code",
   "execution_count": null,
   "id": "16e61033",
   "metadata": {},
   "outputs": [],
   "source": [
    "# save dataset in my drive \n",
    "df.to_csv('AgeWithoutSum.csv', index=False)"
   ]
  },
  {
   "cell_type": "code",
   "execution_count": null,
   "id": "b627e029",
   "metadata": {},
   "outputs": [],
   "source": [
    "#load data from my devise \n",
    "dataset = pd.read_csv('AgeWithoutSum.csv')\n"
   ]
  },
  {
   "cell_type": "code",
   "execution_count": null,
   "id": "25e40b1f",
   "metadata": {},
   "outputs": [],
   "source": [
    "dataset.head(5)"
   ]
  },
  {
   "cell_type": "code",
   "execution_count": null,
   "id": "d1984efa",
   "metadata": {},
   "outputs": [],
   "source": [
    "dataset.shape"
   ]
  },
  {
   "cell_type": "code",
   "execution_count": null,
   "id": "cb2e30d4",
   "metadata": {},
   "outputs": [],
   "source": [
    "# normalization agea \n",
    "dataset['Age'] = MinMaxScaler(feature_range=(0,1)).fit_transform(dataset[['Age']])"
   ]
  },
  {
   "cell_type": "code",
   "execution_count": null,
   "id": "414846d8",
   "metadata": {},
   "outputs": [],
   "source": [
    "dataset.head(5)"
   ]
  },
  {
   "cell_type": "code",
   "execution_count": null,
   "id": "37cc32de",
   "metadata": {},
   "outputs": [],
   "source": [
    "#spliot into featurs and target \n",
    "data_x = dataset.drop(dataset.columns[1], axis=1)  #All Features expect gender \n",
    "data_y = dataset.iloc[:, 1]   #Target only gender"
   ]
  },
  {
   "cell_type": "code",
   "execution_count": null,
   "id": "305b551b",
   "metadata": {},
   "outputs": [],
   "source": [
    "data_x.head(5)"
   ]
  },
  {
   "cell_type": "code",
   "execution_count": null,
   "id": "ab06fe8b",
   "metadata": {},
   "outputs": [],
   "source": [
    "data_y.head(5)"
   ]
  },
  {
   "cell_type": "code",
   "execution_count": null,
   "id": "eaac9384",
   "metadata": {},
   "outputs": [],
   "source": [
    "# Split the dataset into training and testing sets\n",
    "X_train, X_test, y_train, y_test = train_test_split(data_x, data_y, test_size=0.2, random_state=42)"
   ]
  },
  {
   "cell_type": "code",
   "execution_count": null,
   "id": "11f9c75f",
   "metadata": {},
   "outputs": [],
   "source": [
    "print(\"X_train Shape :\",X_train.shape)\n",
    "print(\"X_test Shape :\",X_test.shape)\n",
    "print(\"y_train Shape :\",y_train.shape)\n",
    "print(\"y_test Shape :\",y_test.shape)"
   ]
  },
  {
   "cell_type": "markdown",
   "id": "1cfc2161",
   "metadata": {},
   "source": [
    "# Logistic Regression Model"
   ]
  },
  {
   "cell_type": "code",
   "execution_count": null,
   "id": "a1040e10",
   "metadata": {},
   "outputs": [],
   "source": [
    "# Logistic Regression\n",
    "lr = LogisticRegression(penalty='l2',solver='saga',C=1.0,random_state=11)"
   ]
  },
  {
   "cell_type": "code",
   "execution_count": null,
   "id": "2e2098a5",
   "metadata": {},
   "outputs": [],
   "source": [
    "lr.fit(X_train, y_train)"
   ]
  },
  {
   "cell_type": "code",
   "execution_count": null,
   "id": "26161279",
   "metadata": {},
   "outputs": [],
   "source": [
    "# prediction\n",
    "y_pred = lr.predict(X_test)"
   ]
  },
  {
   "cell_type": "code",
   "execution_count": null,
   "id": "3b01d26b",
   "metadata": {},
   "outputs": [],
   "source": [
    "# prediction\n",
    "y_pred = lr.predict(X_test)\n",
    "# test and train score \n",
    "print(\"(Logistic Regression)Train Score :\",lr.score(X_train,y_train)) \n",
    "print(\"(Logistic Regression)Teast Score :\",lr.score(X_test,y_test))"
   ]
  },
  {
   "cell_type": "code",
   "execution_count": null,
   "id": "cb53869a",
   "metadata": {},
   "outputs": [],
   "source": [
    "# classes\n",
    "print(\"Classes is : \",lr.classes_)"
   ]
  },
  {
   "cell_type": "code",
   "execution_count": null,
   "id": "979d1518",
   "metadata": {},
   "outputs": [],
   "source": [
    "# Itreations \n",
    "print(\"Itreations is : \",lr.n_iter_)"
   ]
  },
  {
   "cell_type": "code",
   "execution_count": null,
   "id": "e8816474",
   "metadata": {},
   "outputs": [],
   "source": [
    "#  intercept_ \n",
    "print(\"Intercept is : \",lr.intercept_)"
   ]
  },
  {
   "cell_type": "code",
   "execution_count": null,
   "id": "43b82405",
   "metadata": {},
   "outputs": [],
   "source": [
    "#   coef_\n",
    "print(\"coef is : \",lr.coef_)"
   ]
  },
  {
   "cell_type": "code",
   "execution_count": null,
   "id": "e5cd41f7",
   "metadata": {},
   "outputs": [],
   "source": [
    "# Get parameters for this estimator.\n",
    "print(\"Prediction  : \",lr.predict(X_test)[:10])"
   ]
  },
  {
   "cell_type": "code",
   "execution_count": null,
   "id": "042cd72a",
   "metadata": {},
   "outputs": [],
   "source": [
    "#  Predict class labels for samples in X.\n",
    "print(\"Prediction Probabilities : \",lr.predict_proba(X_test)[:2])"
   ]
  },
  {
   "cell_type": "markdown",
   "id": "70bc150a",
   "metadata": {},
   "source": [
    "# Metrics"
   ]
  },
  {
   "cell_type": "code",
   "execution_count": null,
   "id": "ddc2631f",
   "metadata": {},
   "outputs": [],
   "source": [
    "#Calculating Confusion Matrix \n",
    "cm = confusion_matrix(y_test,y_pred)\n",
    "print(\"Confusion Matrix :\")\n",
    "print(cm)"
   ]
  },
  {
   "cell_type": "code",
   "execution_count": null,
   "id": "1e462545",
   "metadata": {},
   "outputs": [],
   "source": [
    "# plot confusion matrix \n",
    "sns.heatmap(cm, center = True) \n",
    "plt.show() "
   ]
  },
  {
   "cell_type": "code",
   "execution_count": null,
   "id": "72bb67f0",
   "metadata": {},
   "outputs": [],
   "source": [
    "#Calculating Accuracy Score \n",
    "acScore = accuracy_score(y_test,y_pred,normalize=False)\n",
    "print(\"Accuracy Score : \",acScore)"
   ]
  },
  {
   "cell_type": "code",
   "execution_count": null,
   "id": "d4f50d15-5ee4-497e-a3f3-690e208cec06",
   "metadata": {},
   "outputs": [],
   "source": [
    "#Calculating Accuracy Score \n",
    "acScore = accuracy_score(y_test,y_pred)\n",
    "print(\"Accuracy Score : \",acScore)"
   ]
  },
  {
   "cell_type": "code",
   "execution_count": null,
   "id": "7c4a5301",
   "metadata": {},
   "outputs": [],
   "source": [
    "#Calculating ROC AUC Score:\n",
    "ROCAUCScore = roc_auc_score(y_test,y_pred, average='micro') \n",
    "print('ROCAUC Score : ', ROCAUCScore) "
   ]
  },
  {
   "cell_type": "code",
   "execution_count": null,
   "id": "6c05c045",
   "metadata": {},
   "outputs": [],
   "source": [
    "# ROC curve \n",
    "# Predict probabilities on the test set\n",
    "y_probs = lr.predict_proba(X_test)[:, 1]\n",
    "\n",
    "# Calculate the ROC curve\n",
    "fpr, tpr, thresholds = roc_curve(y_test, y_probs)\n",
    "roc_auc = auc(fpr, tpr)\n",
    "\n",
    "# Plotting the ROC curve\n",
    "plt.figure()\n",
    "plt.plot(fpr, tpr, color='blue', lw=2, label='ROC curve (AUC = %0.2f)' % roc_auc)\n",
    "plt.plot([0, 1], [0, 1], color='red', linestyle='--')\n",
    "plt.xlim([0.0, 1.0])\n",
    "plt.ylim([0.0, 1.05])\n",
    "plt.xlabel('False Positive Rate')\n",
    "plt.ylabel('True Positive Rate')\n",
    "plt.title('Receiver Operating Characteristic (ROC) Curve')\n",
    "plt.legend(loc=\"lower right\")\n",
    "plt.show()"
   ]
  },
  {
   "cell_type": "code",
   "execution_count": null,
   "id": "ccb172de",
   "metadata": {},
   "outputs": [],
   "source": [
    "#Loss \n",
    "#plt.plot(lr.losscurve,label=\"train\")\n",
    "#lr.fit(X_train,y_train)                    #doubt\n",
    "#plt.plot(lr.losscurve,label=\"validation\") #doubt\n",
    "#plt.legend()"
   ]
  },
  {
   "cell_type": "code",
   "execution_count": null,
   "id": "bdd710b1",
   "metadata": {},
   "outputs": [],
   "source": []
  }
 ],
 "metadata": {
  "kernelspec": {
   "display_name": "Python 3 (ipykernel)",
   "language": "python",
   "name": "python3"
  },
  "language_info": {
   "codemirror_mode": {
    "name": "ipython",
    "version": 3
   },
   "file_extension": ".py",
   "mimetype": "text/x-python",
   "name": "python",
   "nbconvert_exporter": "python",
   "pygments_lexer": "ipython3",
   "version": "3.12.0"
  }
 },
 "nbformat": 4,
 "nbformat_minor": 5
}
